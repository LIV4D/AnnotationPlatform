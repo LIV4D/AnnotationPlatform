{
 "cells": [
  {
   "cell_type": "markdown",
   "metadata": {},
   "source": [
    "### Init"
   ]
  },
  {
   "cell_type": "markdown",
   "metadata": {},
   "source": [
    "Importe le module `cli` qui contient toute les commandes de l'API et configure l'API pour qu'elle se connecte au serveur."
   ]
  },
  {
   "cell_type": "code",
   "execution_count": 1,
   "metadata": {},
   "outputs": [],
   "source": [
    "import liv4dcli as cli\n",
    "from pandas import DataFrame\n",
    "from commands.utils import paste_int_list\n",
    "cli.config.url = \"http://liv4dfs.gi.polymtl.ca\""
   ]
  },
  {
   "cell_type": "markdown",
   "metadata": {},
   "source": [
    "Créé des alias vers les ensembles de biomarqueusr et vers les ID d'utilisateur des cliniciens."
   ]
  },
  {
   "cell_type": "code",
   "execution_count": 2,
   "metadata": {},
   "outputs": [],
   "source": [
    "bright = \"Exudates,Cotton Wool Spots,Drusen,Uncertain - Bright\"\n",
    "red = \"Microaneurysms,Hemorrhages,Sub-retinal hemorrhage,Pre-retinal hemorrhage,Neovascularization,Uncertain - Red\"\n",
    "disk = \"Disk,Cup,Macula\"\n",
    "vessel = \"Vessels - Uncertain\"\n",
    "lesions = \"Exudates,Cotton Wool Spots,Drusen,Uncertain - Bright,Microaneurysms,Hemorrhages,Sub-retinal hemorrhage,Pre-retinal hemorrhage,Neovascularization,Uncertain - Red\"\n",
    "\n",
    "boucher = \"84be2a52-5491-4d67-ad75-1704964eeb51\"\n",
    "brent = \"4207335d-4aea-4975-8ab0-3d46f8259e6f\"\n",
    "desroches = \"d8fae448-3e1f-41cc-93cd-bef2df151d47\"\n",
    "duval = \"02758e79-f1e1-4989-8e57-5658672a2b12\"\n",
    "hammamji = \"7b1dc155-f885-4ad8-9582-b5db27196c66\"\n",
    "kalevar = \"ed2f771f-fd43-4f0f-98f3-c42edfb5f3b4\"\n",
    "qian = \"9dbc7fbd-66a9-4990-b53f-291f806f6672\"\n",
    "wong = \"de7b71eb-87b0-4dce-84fe-373e86dc7eb8\"\n",
    "\n",
    "\n",
    "clinicians = [boucher, brent, desroches, duval, hammamji, kalevar, qian, wong]\n",
    "\n",
    "clement = \"e3252de6-e128-4553-91b7-ed392529cc7b\"\n",
    "gabriel = \"b45c99c9-b10e-4cd9-96d7-4060a889184b\"\n",
    "philippe = \"9b869c98-d334-426a-a824-7ca80c50e344\"\n",
    "demo = \"a8d42b15-4d1e-4a95-a95e-852b9712fc71\""
   ]
  },
  {
   "cell_type": "markdown",
   "metadata": {},
   "source": [
    "**Taches**\n",
    " - utilisateur\n",
    " - image\n",
    " - Complétée\n",
    " - Active (Visible)\n",
    " - Type de taches (toujours 1)\n",
    " \n",
    "**Révisions (données annotations)**\n",
    " - Image\n",
    " - Utilisateur (une seule révision par utilisateur et par image)\n",
    " - Commentaire\n",
    "     - Liste biomarqueurs modifiables\n",
    "     - Diagnostique ou annotation de biomarqueurs (exclusif)\n",
    "     - Timer\n",
    "     - Commentaire affiché dans le champ commentaire\n",
    " - SVG (biomarqueurs en format xml puis png)\n",
    "     \n",
    " "
   ]
  },
  {
   "cell_type": "markdown",
   "metadata": {},
   "source": [
    "### Utilisateurs"
   ]
  },
  {
   "cell_type": "markdown",
   "metadata": {},
   "source": [
    "Lister les utilisateurs:"
   ]
  },
  {
   "cell_type": "code",
   "execution_count": null,
   "metadata": {
    "scrolled": true
   },
   "outputs": [],
   "source": [
    "users = cli.user.list_user()\n",
    "DataFrame.from_dict(users)"
   ]
  },
  {
   "cell_type": "markdown",
   "metadata": {},
   "source": [
    "Ajouter un clinicien."
   ]
  },
  {
   "cell_type": "code",
   "execution_count": null,
   "metadata": {},
   "outputs": [],
   "source": [
    "#cli.user.create(name=\"name\",email=\"email\",password=\"password\", role='clinician')"
   ]
  },
  {
   "cell_type": "markdown",
   "metadata": {},
   "source": [
    "Modifier un mot de passe."
   ]
  },
  {
   "cell_type": "code",
   "execution_count": null,
   "metadata": {},
   "outputs": [],
   "source": [
    "#cli.user.update(gabriel, password='1234admin')"
   ]
  },
  {
   "cell_type": "markdown",
   "metadata": {},
   "source": [
    "### Images"
   ]
  },
  {
   "cell_type": "markdown",
   "metadata": {},
   "source": [
    "Liste des images par index: https://docs.google.com/spreadsheets/d/1AvLe63q63mK4RWOqEvJaUWy0_JMGgu07koFHr9chbQU/edit?usp=sharing.\n",
    "\n",
    "Coller une liste d'index depuis le presse papier dans python:"
   ]
  },
  {
   "cell_type": "code",
   "execution_count": null,
   "metadata": {},
   "outputs": [],
   "source": [
    "imgs = cli.utils.paste_int_list()\n",
    "print(len(imgs),'|',imgs)"
   ]
  },
  {
   "cell_type": "markdown",
   "metadata": {},
   "source": [
    "### Taches"
   ]
  },
  {
   "cell_type": "markdown",
   "metadata": {},
   "source": [
    "Lister les taches d'un utilisateur:"
   ]
  },
  {
   "cell_type": "code",
   "execution_count": null,
   "metadata": {},
   "outputs": [],
   "source": [
    "tasks = cli.task.list_task(boucher)\n",
    "DataFrame.from_dict(tasks)"
   ]
  },
  {
   "cell_type": "markdown",
   "metadata": {},
   "source": [
    "Ajoute une tache à un utilisateur:"
   ]
  },
  {
   "cell_type": "code",
   "execution_count": null,
   "metadata": {},
   "outputs": [],
   "source": [
    "# image_id: L'identifiant de l'image ou une liste d'identifiant.\n",
    "# user_id: L'identifiant de l'utilisateur\n",
    "# limit_biomarkers: liste (ou string séparé par des virgules) des biomarqueurs modifiables\n",
    "# active: Affiche la tache dans la liste des taches de l'utilisateur\n",
    "# completed: Marque la tache comme complétée dans la liste des taches de l'utilisateur\n",
    "# diagnostic: Remplace l'outils d'annotation de biomarqueurs par l'annotation du diagnostic (DR, MA)\n",
    "# comment: Précise un commentaire \n",
    "# merge: Si une tache existe, elle est merge avec la nouvelle.\n",
    "\n",
    "cli.task.create(10, demo)\n",
    "cli.task.create([11,12], demo, limit_biomarkers=red)\n",
    "cli.task.create(13, demo, diagnostic=True, comment=\"Faire le diagnostic\")"
   ]
  },
  {
   "cell_type": "markdown",
   "metadata": {},
   "source": [
    "Supprimer une tache d'un utilisateur:"
   ]
  },
  {
   "cell_type": "code",
   "execution_count": null,
   "metadata": {},
   "outputs": [],
   "source": []
  },
  {
   "cell_type": "markdown",
   "metadata": {},
   "source": [
    "Supprimer toutes les taches d'un utilisateur:"
   ]
  },
  {
   "cell_type": "code",
   "execution_count": null,
   "metadata": {},
   "outputs": [],
   "source": [
    "cli.task.delete_all_from_user(demo)"
   ]
  },
  {
   "cell_type": "markdown",
   "metadata": {},
   "source": [
    "### Revision"
   ]
  },
  {
   "cell_type": "markdown",
   "metadata": {},
   "source": [
    "Lire une revision"
   ]
  },
  {
   "cell_type": "code",
   "execution_count": null,
   "metadata": {},
   "outputs": [],
   "source": [
    "rev = cli.revision.get_revision(demo, 2)\n",
    "print('ID', rev['id'])\n",
    "print('Commentaire', rev['diagnostic'])\n",
    "print('SVG', rev['svg'])"
   ]
  },
  {
   "cell_type": "code",
   "execution_count": null,
   "metadata": {},
   "outputs": [],
   "source": [
    "rev = cli.revision.get_revision(demo, 11, svg=False)\n",
    "print('Commentaire:', rev['diagnostic'])\n",
    "rev = cli.revision.get_revision(demo, 13, svg=False)\n",
    "print('Commentaire:', rev['diagnostic'])"
   ]
  },
  {
   "cell_type": "markdown",
   "metadata": {},
   "source": [
    "Lire un biomarqueur"
   ]
  },
  {
   "cell_type": "code",
   "execution_count": null,
   "metadata": {},
   "outputs": [],
   "source": [
    "#b = cli.revision.get_biomarkers(demo, 2)[vessel]\n",
    "b = cli.revision.get_biomarker(user_id=demo, image_id=2, biomarker='Hemorrhages')"
   ]
  },
  {
   "cell_type": "code",
   "execution_count": null,
   "metadata": {},
   "outputs": [],
   "source": [
    "import matplotlib.pyplot as plt\n",
    "plt.imshow(b,cmap='gray')\n",
    "plt.axis('off')"
   ]
  },
  {
   "cell_type": "markdown",
   "metadata": {},
   "source": [
    "Modifier une revision:"
   ]
  },
  {
   "cell_type": "code",
   "execution_count": null,
   "metadata": {},
   "outputs": [],
   "source": [
    "#cli.revision.update(svg, demo, 2, \"diagnostic\")\n",
    "cli.revision.update_diagnostic(\"diagnostic\", demo, 2)\n"
   ]
  },
  {
   "cell_type": "markdown",
   "metadata": {},
   "source": [
    "Modifier un biomarqueur:"
   ]
  },
  {
   "cell_type": "code",
   "execution_count": null,
   "metadata": {},
   "outputs": [],
   "source": [
    "# img = cv2.imread(...)\n",
    "png = cli.utils.encode_svg(img)\n",
    "cli.revision.update_biomarker(demo, 2, vessel, png)"
   ]
  },
  {
   "cell_type": "markdown",
   "metadata": {},
   "source": [
    "Supprimer tout les biomarqueurs"
   ]
  },
  {
   "cell_type": "code",
   "execution_count": null,
   "metadata": {},
   "outputs": [],
   "source": [
    "#cli.revision.clear_revision(demo,2)"
   ]
  },
  {
   "cell_type": "markdown",
   "metadata": {},
   "source": [
    "Transférer des biomarqueurs d'un clinicien à l'autre"
   ]
  },
  {
   "cell_type": "code",
   "execution_count": null,
   "metadata": {},
   "outputs": [],
   "source": [
    "cli.revision.transfer_biomarker(2, demo, prod, biomarker=vessel) # Uniquement les vaisseaux\n",
    "cli.revision.transfer_biomarker([10,11], demo, prod)  # Tous les biomarqueurs pour les images 0 et 11"
   ]
  },
  {
   "cell_type": "markdown",
   "metadata": {},
   "source": [
    "# Révision par utilisateur"
   ]
  },
  {
   "cell_type": "code",
   "execution_count": 5,
   "metadata": {},
   "outputs": [],
   "source": [
    "def revision_by_user(user):\n",
    "    tasks = cli.task.list_task(user)\n",
    "    return [cli.revision.get_revision(t['user']['id'], t['image']['id'], svg=False) for t in tasks]\n",
    "\n",
    "def extract_time(revision):\n",
    "    diagnostic_text = revision['diagnostic']\n",
    "    return cli.utils.dict_info_from_diagnostic(diagnostic_text)['time']"
   ]
  },
  {
   "cell_type": "code",
   "execution_count": 4,
   "metadata": {},
   "outputs": [],
   "source": [
    "rev_boucher = revision_by_user(boucher)\n",
    "rev_duval = revision_by_user(duval)"
   ]
  },
  {
   "cell_type": "code",
   "execution_count": 14,
   "metadata": {},
   "outputs": [
    {
     "name": "stdout",
     "output_type": "stream",
     "text": [
      "Timer boucher [3415  710 1410  967  564 2433  329  618  598 1233 1099  717  659 1069\n",
      "  396  488  379  307  200  379  228  259  217  397  717  721  363  799\n",
      "  640  762  367 2166 1985 1142  268  692  630  335  636 1591  192  380\n",
      "  396  704  227  750  717 1007 1264  365  521]\n",
      "Avg: 12:52 +/- 10:18\n"
     ]
    }
   ],
   "source": [
    "times_boucher = np.array([extract_time(r) for r in rev_boucher])\n",
    "avg_boucher = times_boucher.mean()\n",
    "std_boucher = times_boucher.std()\n",
    "print('Timer Bboucher:', times_boucher)\n",
    "print('Avg: %i:%i +/- %i:%i' %\n",
    "     (avg_boucher//60, avg_boucher%60, std_boucher//60, std_boucher%60))\n"
   ]
  },
  {
   "cell_type": "code",
   "execution_count": 16,
   "metadata": {},
   "outputs": [
    {
     "name": "stdout",
     "output_type": "stream",
     "text": [
      "Timer Duval: [3415  710 1410  967  564 2433  329  618  598 1233 1099  717  659 1069\n",
      "  396  488  379  307  200  379  228  259  217  397  717  721  363  799\n",
      "  640  762  367 2166 1985 1142  268  692  630  335  636 1591  192  380\n",
      "  396  704  227  750  717 1007 1264  365  521]\n",
      "Avg: 5:24 +/- 3:38\n"
     ]
    }
   ],
   "source": [
    "times_duval = np.array([extract_time(r) for r in rev_duval])\n",
    "avg_duval = times_duval.mean()\n",
    "std_duval = times_duval.std()\n",
    "print('Timer Duval:', times_boucher)\n",
    "print('Avg: %i:%i +/- %i:%i' %\n",
    "     (avg_duval//60, avg_duval%60, std_duval//60, std_duval%60))\n"
   ]
  },
  {
   "cell_type": "code",
   "execution_count": null,
   "metadata": {},
   "outputs": [],
   "source": []
  }
 ],
 "metadata": {
  "kernelspec": {
   "display_name": "Python 3",
   "language": "python",
   "name": "python3"
  },
  "language_info": {
   "codemirror_mode": {
    "name": "ipython",
    "version": 3
   },
   "file_extension": ".py",
   "mimetype": "text/x-python",
   "name": "python",
   "nbconvert_exporter": "python",
   "pygments_lexer": "ipython3",
   "version": "3.6.10"
  },
  "varInspector": {
   "cols": {
    "lenName": 16,
    "lenType": 16,
    "lenVar": 40
   },
   "kernels_config": {
    "python": {
     "delete_cmd_postfix": "",
     "delete_cmd_prefix": "del ",
     "library": "var_list.py",
     "varRefreshCmd": "print(var_dic_list())"
    },
    "r": {
     "delete_cmd_postfix": ") ",
     "delete_cmd_prefix": "rm(",
     "library": "var_list.r",
     "varRefreshCmd": "cat(var_dic_list()) "
    }
   },
   "types_to_exclude": [
    "module",
    "function",
    "builtin_function_or_method",
    "instance",
    "_Feature"
   ],
   "window_display": false
  }
 },
 "nbformat": 4,
 "nbformat_minor": 4
}
